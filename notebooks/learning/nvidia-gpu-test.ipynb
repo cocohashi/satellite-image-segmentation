{
 "cells": [
  {
   "cell_type": "markdown",
   "id": "710b1b28-f2c9-46f7-b552-e7da7b0fdcae",
   "metadata": {},
   "source": [
    "# NVIDIA GPU TEST"
   ]
  },
  {
   "cell_type": "code",
   "execution_count": 3,
   "id": "07c01053-e0ba-451b-9818-81c699e65817",
   "metadata": {},
   "outputs": [
    {
     "name": "stdout",
     "output_type": "stream",
     "text": [
      "Wed Sep 28 11:23:31 2022       \n",
      "+-----------------------------------------------------------------------------+\n",
      "| NVIDIA-SMI 515.65.01    Driver Version: 515.65.01    CUDA Version: 11.7     |\n",
      "|-------------------------------+----------------------+----------------------+\n",
      "| GPU  Name        Persistence-M| Bus-Id        Disp.A | Volatile Uncorr. ECC |\n",
      "| Fan  Temp  Perf  Pwr:Usage/Cap|         Memory-Usage | GPU-Util  Compute M. |\n",
      "|                               |                      |               MIG M. |\n",
      "|===============================+======================+======================|\n",
      "|   0  NVIDIA GeForce ...  Off  | 00000000:01:00.0  On |                  N/A |\n",
      "| 42%   33C    P8    17W / 125W |    898MiB /  6144MiB |     38%      Default |\n",
      "|                               |                      |                  N/A |\n",
      "+-------------------------------+----------------------+----------------------+\n",
      "                                                                               \n",
      "+-----------------------------------------------------------------------------+\n",
      "| Processes:                                                                  |\n",
      "|  GPU   GI   CI        PID   Type   Process name                  GPU Memory |\n",
      "|        ID   ID                                                   Usage      |\n",
      "|=============================================================================|\n",
      "|    0   N/A  N/A      1336      G   /usr/lib/xorg/Xorg                278MiB |\n",
      "|    0   N/A  N/A      2149      G   /usr/bin/gnome-shell              128MiB |\n",
      "|    0   N/A  N/A      2858      G   ...RendererForSitePerProcess       12MiB |\n",
      "|    0   N/A  N/A      7499      G   ...590686387927981374,131072      142MiB |\n",
      "|    0   N/A  N/A      7756      G   /usr/lib/firefox/firefox          134MiB |\n",
      "|    0   N/A  N/A      9079      G   ./firefox.real                    139MiB |\n",
      "|    0   N/A  N/A      9173      G   ...n-US/Browser/firefox.real        1MiB |\n",
      "|    0   N/A  N/A     14706      G   ...n-US/Browser/firefox.real        1MiB |\n",
      "|    0   N/A  N/A     14852      G   ...n-US/Browser/firefox.real        1MiB |\n",
      "|    0   N/A  N/A     15373      G   ...n-US/Browser/firefox.real        1MiB |\n",
      "|    0   N/A  N/A     19010      G   ..._10792.log --shared-files       46MiB |\n",
      "+-----------------------------------------------------------------------------+\n"
     ]
    }
   ],
   "source": [
    "!nvidia-smi"
   ]
  },
  {
   "cell_type": "code",
   "execution_count": 2,
   "id": "a57d0b55-9c73-45c6-93f5-552d6ed7b83f",
   "metadata": {},
   "outputs": [
    {
     "data": {
      "text/plain": [
       "True"
      ]
     },
     "execution_count": 2,
     "metadata": {},
     "output_type": "execute_result"
    }
   ],
   "source": [
    "import torch\n",
    "torch.cuda.is_available()"
   ]
  },
  {
   "cell_type": "code",
   "execution_count": null,
   "id": "ba834cce-434f-4d33-b302-42e13440bdb5",
   "metadata": {},
   "outputs": [],
   "source": []
  }
 ],
 "metadata": {
  "kernelspec": {
   "display_name": "Python 3 (ipykernel)",
   "language": "python",
   "name": "python3"
  },
  "language_info": {
   "codemirror_mode": {
    "name": "ipython",
    "version": 3
   },
   "file_extension": ".py",
   "mimetype": "text/x-python",
   "name": "python",
   "nbconvert_exporter": "python",
   "pygments_lexer": "ipython3",
   "version": "3.8.13"
  }
 },
 "nbformat": 4,
 "nbformat_minor": 5
}
